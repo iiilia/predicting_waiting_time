{
 "cells": [
  {
   "cell_type": "code",
   "execution_count": 84,
   "metadata": {
    "collapsed": false
   },
   "outputs": [],
   "source": [
    "import pandas as pd\n",
    "import pickle as pkl\n",
    "import numpy as np\n",
    "import os, gc, math, sys, re\n",
    "import os,sys\n",
    "import numpy as np\n",
    "import pandas as pd\n",
    "from matplotlib import pyplot as plt\n",
    "%matplotlib inline\n",
    "from tqdm import *\n",
    "from datetime import datetime as dt\n",
    "from datetime import datetime, timedelta\n",
    "from multiprocessing import Pool\n",
    "from multiprocessing.dummy import Pool as ThreadPool\n",
    "from sklearn.cluster import KMeans\n",
    "import time\n",
    "from multiprocessing import Pool\n",
    "from multiprocessing.dummy import Pool as ThreadPool\n",
    "import holidays as h"
   ]
  },
  {
   "cell_type": "code",
   "execution_count": 66,
   "metadata": {
    "collapsed": true
   },
   "outputs": [],
   "source": [
    "def dummie_train(df, col):\n",
    "    uniq = df[col].unique()\n",
    "    for i in uniq:\n",
    "        name = col + '_'+ str(i)\n",
    "        df.loc[:,name] = df[col] == i\n",
    "        df.loc[:,name] = df.loc[:,name].astype(int)\n",
    "    return df, uniq\n",
    "def dummie_test(df, col, uniq):\n",
    "    for i in uniq:\n",
    "        name = col + '_'+ str(i)\n",
    "        df.loc[:,name] = df[col] == i\n",
    "        df.loc[:,name] = df.loc[:,name].astype(int)\n",
    "    return df"
   ]
  },
  {
   "cell_type": "code",
   "execution_count": 44,
   "metadata": {
    "collapsed": true
   },
   "outputs": [],
   "source": [
    "def show_nulls(data):\n",
    "    d = ((c, data[c][pd.isnull(data[c])].shape[0]) for c in data.columns)\n",
    "    return pd.DataFrame(d, columns=['name', 'nans'])"
   ]
  },
  {
   "cell_type": "code",
   "execution_count": 45,
   "metadata": {
    "collapsed": true
   },
   "outputs": [],
   "source": [
    "df = pd.read_pickle('../df.pkl')"
   ]
  },
  {
   "cell_type": "code",
   "execution_count": 46,
   "metadata": {
    "collapsed": false
   },
   "outputs": [
    {
     "name": "stdout",
     "output_type": "stream",
     "text": [
      "27424 1580\n"
     ]
    }
   ],
   "source": [
    "df_cancelled = df[pd.isnull(df.Begin)]\n",
    "df = df[~pd.isnull(df.Begin)]\n",
    "print df.shape[0], df_cancelled.shape[0]"
   ]
  },
  {
   "cell_type": "markdown",
   "metadata": {},
   "source": [
    "_____"
   ]
  },
  {
   "cell_type": "code",
   "execution_count": 48,
   "metadata": {
    "collapsed": false
   },
   "outputs": [
    {
     "name": "stdout",
     "output_type": "stream",
     "text": [
      "[u'Scheduled', u'Begin', u'Complete', u'Scan start', u'PID', u'EID', u'Arrive', u'Modality', u'Exam']\n"
     ]
    }
   ],
   "source": [
    "print list(df.columns)"
   ]
  },
  {
   "cell_type": "markdown",
   "metadata": {},
   "source": [
    "#### Convert time"
   ]
  },
  {
   "cell_type": "code",
   "execution_count": 49,
   "metadata": {
    "collapsed": false
   },
   "outputs": [
    {
     "name": "stderr",
     "output_type": "stream",
     "text": [
      "100%|██████████| 5/5 [00:04<00:00,  1.19it/s]\n"
     ]
    }
   ],
   "source": [
    "unix_date = datetime(2010, 1, 1,0,0,0)\n",
    "td = timedelta(seconds=1)\n",
    "for i in tqdm(['Scheduled', 'Arrive', 'Begin','Scan start', 'Complete']):\n",
    "    df[i+'_UNIX'] = list(map(lambda x: (x - unix_date) /  td, df[i]))"
   ]
  },
  {
   "cell_type": "code",
   "execution_count": 50,
   "metadata": {
    "collapsed": true
   },
   "outputs": [],
   "source": [
    "day = datetime.strptime('02.10.10','%d.%m.%y') - datetime.strptime('01.10.10','%d.%m.%y')\n",
    "week = datetime.strptime('17.10.10 10:10:10','%d.%m.%y %H:%M:%S') - datetime.strptime('10.10.10 10:10:10','%d.%m.%y %H:%M:%S')\n",
    "month = datetime.strptime('01.10.10','%d.%m.%y') - datetime.strptime('01.09.10','%d.%m.%y')"
   ]
  },
  {
   "cell_type": "code",
   "execution_count": 51,
   "metadata": {
    "collapsed": true
   },
   "outputs": [],
   "source": [
    "# время ожидания от прихода\n",
    "\n",
    "# TARGET\n",
    "\n",
    "def time_of_expected(df):\n",
    "    df['time_of_expected'] = df.Begin - df.Arrive\n",
    "    df['time_of_expected'] = list(map(lambda x: x.delta/1000000000,tqdm(df['time_of_expected'])))\n",
    "    return df"
   ]
  },
  {
   "cell_type": "code",
   "execution_count": 52,
   "metadata": {
    "collapsed": true
   },
   "outputs": [],
   "source": [
    "# добавить дамии на месяц (но сейчас у нас эта штука не будет иметь значение (по идее) \n",
    "# так как мы используем как тест один обособленный месяц)\n",
    "df['month'] = list(map(lambda x: x.month, df.Arrive))"
   ]
  },
  {
   "cell_type": "code",
   "execution_count": 53,
   "metadata": {
    "collapsed": true
   },
   "outputs": [],
   "source": [
    "# добавить дамми на день недели\n",
    "df['day_of_week'] = list(map(lambda x: datetime.weekday(x), df.Arrive))"
   ]
  },
  {
   "cell_type": "code",
   "execution_count": 54,
   "metadata": {
    "collapsed": false
   },
   "outputs": [
    {
     "name": "stderr",
     "output_type": "stream",
     "text": [
      "100%|██████████| 27424/27424 [00:38<00:00, 710.80it/s]\n",
      "100%|██████████| 27424/27424 [00:33<00:00, 813.47it/s]\n"
     ]
    }
   ],
   "source": [
    "# изменить года для нового датасета\n",
    "us_hol = h.US(state='MA', years=[2013, 2014, 2015, 2016,])\n",
    "\n",
    "# добавить расстояние до ближайщего справа праздника\n",
    "def right(x, hol = us_hol):\n",
    "    days = []\n",
    "    for i in us_hol:\n",
    "        days.append((datetime.date(x)-i).days)\n",
    "    day = np.min(pd.Series(days)[pd.Series(days) >= 0])\n",
    "    return day\n",
    "df['right_holiday'] = list(map(lambda x: right(x), tqdm(df.Arrive)))\n",
    "# добавить расстояние до ближайщего слева праздника\n",
    "def left(x):\n",
    "    days = []\n",
    "    for i in us_hol:\n",
    "        days.append((datetime.date(x)-i).days)\n",
    "    day = np.max(pd.Series(days)[pd.Series(days) <= 0])\n",
    "    return day\n",
    "df['left_holiday'] = list(map(lambda x: left(x), tqdm(df.Arrive)))\n",
    "                          \n",
    "df['is_holiday'] = list(map(lambda x: int(x in us_hol), df.Arrive))"
   ]
  },
  {
   "cell_type": "code",
   "execution_count": 55,
   "metadata": {
    "collapsed": true
   },
   "outputs": [],
   "source": [
    "# время ожидание от запланированного приема (может быть отрицательным)\n",
    "\n",
    "def time_of_expected_on_shedule(df):\n",
    "    df['time_of_expected_on_shedule'] = df.Begin - df.Scheduled\n",
    "    df['time_of_expected_on_shedule'] = list(map(lambda x: x.delta/1000000000,df['time_of_expected_on_shedule']))\n",
    "    return df"
   ]
  },
  {
   "cell_type": "code",
   "execution_count": 56,
   "metadata": {
    "collapsed": true
   },
   "outputs": [],
   "source": [
    "# сколько выполнялось исследование (может быть оооочень большим)\n",
    "\n",
    "def time_of_procedure(df):\n",
    "    df['time_of_procedure'] = df['Complete'] - df['Begin']\n",
    "    df['time_of_procedure'] = list(map(lambda x: x.delta/1000000000,df['time_of_procedure']))\n",
    "    return df"
   ]
  },
  {
   "cell_type": "code",
   "execution_count": 57,
   "metadata": {
    "collapsed": true
   },
   "outputs": [],
   "source": [
    "# сколько пациентов находилось в очереди за delta секунд\n",
    "\n",
    "def lq(x,y,delta = 0, df = df):\n",
    "    return df[(df.Arrive_UNIX < x-delta) & (df.Begin_UNIX > x-delta) & (df.Modality == y)].shape[0]\n",
    "def len_of_queque(df, delta = 0):\n",
    "    df['len_of_queque_before_'+str(delta)+'_seconds'] = list(map(lambda x, y: lq(x,y,delta,df) , df.Arrive_UNIX, df.Modality))\n",
    "    return df"
   ]
  },
  {
   "cell_type": "code",
   "execution_count": 58,
   "metadata": {
    "collapsed": true
   },
   "outputs": [],
   "source": [
    "# количество зашедших на исследование за некоторое время\n",
    "\n",
    "# time_delta в секундах\n",
    "\n",
    "def come_in(x,df,time_delta):\n",
    "    return df[(df.Begin_UNIX >= ((x - unix_date)/td - time_delta) ) & (df.Begin_UNIX <= (x - unix_date)/td )].shape[0]\n",
    "def count_who_come_in(df,time_delta):\n",
    "    df['count_who_come_in_previous_'+str(time_delta)+'_seconds'] = list(map(lambda x, y: come_in(x,df[df.Modality == y],time_delta) , df.Arrive, df.Modality))\n",
    "    return df"
   ]
  },
  {
   "cell_type": "code",
   "execution_count": 59,
   "metadata": {
    "collapsed": true
   },
   "outputs": [],
   "source": [
    "# количество вышедших с исследования за некоторое время\n",
    "\n",
    "# time_delta в секундах\n",
    "\n",
    "def come_out(x,df,time_delta):\n",
    "    return df[(df.Complete_UNIX >= ((x - unix_date)/td - time_delta) ) & (df.Complete_UNIX <= (x - unix_date)/td )].shape[0]\n",
    "def count_who_come_out(df,time_delta):\n",
    "    df['count_who_come_out_previous_'+str(time_delta)+'_seconds'] = list(map(lambda x, y: come_out(x,df[df.Modality == y],time_delta) , df.Arrive, df.Modality))\n",
    "    return df"
   ]
  },
  {
   "cell_type": "code",
   "execution_count": 60,
   "metadata": {
    "collapsed": true
   },
   "outputs": [],
   "source": [
    "# количество пришедших в госпиталь за некоторое время\n",
    "\n",
    "# time_delta в секундах\n",
    "\n",
    "def arrive_in(x,df,time_delta):\n",
    "    return df[(df.Arrive_UNIX >= ((x - unix_date)/td - time_delta) ) & (df.Arrive_UNIX <= (x - unix_date)/td )].shape[0]\n",
    "\n",
    "def count_who_arrive_in(df,time_delta):\n",
    "    df['count_who_arrive_in_previous_'+str(time_delta)+'_seconds'] = list(map(lambda x, y: \n",
    "            arrive_in(x,df[df.Modality == y],time_delta) , df.Arrive, df.Modality))\n",
    "    return df"
   ]
  },
  {
   "cell_type": "code",
   "execution_count": 61,
   "metadata": {
    "collapsed": true
   },
   "outputs": [],
   "source": [
    "# среднее время ожидания по всем людям, которые пришли за некоторый промежуток времени\n",
    "\n",
    "def mean_time(x,df, period):\n",
    "    return np.mean(df[(df.Arrive < x) & (df.Arrive >= x - period)].time_of_expected)\n",
    "def mean_time_of_exp(df,multiply = 1,period = day):\n",
    "    # period as time in unix\n",
    "    if period == day:\n",
    "        name = 'day'\n",
    "    elif period == week:\n",
    "        name = 'week'\n",
    "    else:\n",
    "        name = 'month'\n",
    "    df['mean_time_of_exp_'+str(multiply)+'_'+name] = list(map(lambda x,y: mean_time(x,df[df.Modality == y], period*multiply), df.Arrive, df.Modality))\n",
    "    return df\n",
    "\n",
    "# оклонение по всем людям, которые пришли за некоторый промежуток времени\n",
    "\n",
    "def std_time(x,df, period):\n",
    "    return np.std(df[(df.Arrive < x) & (df.Arrive >= x - period)].time_of_expected)\n",
    "def std_time_of_exp(df,multiply = 1,period = day):\n",
    "    # period as time in unix\n",
    "    if period == day:\n",
    "        name = 'day'\n",
    "    elif period == week:\n",
    "        name = 'week'\n",
    "    else:\n",
    "        name = 'month'\n",
    "    df['std_time_of_exp_'+str(multiply)+'_'+name] = list(map(lambda x,y: std_time(x,df[df.Modality == y], period*multiply), df.Arrive, df.Modality))\n",
    "    return df"
   ]
  },
  {
   "cell_type": "code",
   "execution_count": 62,
   "metadata": {
    "collapsed": true
   },
   "outputs": [],
   "source": [
    "# среднее время проведения исследования по всем людям, которые пришли за некоторый промежуток времени\n",
    "\n",
    "def mean_time_2(x,df, period):\n",
    "    return np.mean(df[(df.Arrive < x) & (df.Arrive >= x - period)].time_of_procedure)\n",
    "def mean_time_of_proced(df,multiply = 1,period = day):\n",
    "    # period as time in unix\n",
    "    if period == day:\n",
    "        name = 'day'\n",
    "    elif period == week:\n",
    "        name = 'week'\n",
    "    else:\n",
    "        name = 'month'\n",
    "    df['mean_time_of_proced_'+str(multiply)+'_'+name] = list(map(lambda x,y: mean_time_2(x,df[df.Modality == y], period*multiply), df.Arrive, df.Modality))\n",
    "    return df\n",
    "\n",
    "# оклонение проведения исследования по всем людям, которые пришли за некоторый промежуток времени\n",
    "\n",
    "def std_time_2(x,df, period):\n",
    "    return np.std(df[(df.Arrive < x) & (df.Arrive >= x - period)].time_of_procedure)\n",
    "def std_time_of_proced(df,multiply = 1,period = day):\n",
    "    # period as time in unix\n",
    "    if period == day:\n",
    "        name = 'day'\n",
    "    elif period == week:\n",
    "        name = 'week'\n",
    "    else:\n",
    "        name = 'month'\n",
    "    df['std_time_of_proced_'+str(multiply)+'_'+name] = list(map(lambda x,y: std_time_2(x,df[df.Modality == y], period*multiply), df.Arrive, df.Modality))\n",
    "    return df"
   ]
  },
  {
   "cell_type": "code",
   "execution_count": 63,
   "metadata": {
    "collapsed": true
   },
   "outputs": [],
   "source": [
    "# среднее время отклонения от расписания по всем людям, которые пришли за некоторый промежуток времени\n",
    "\n",
    "def mean_time_3(x,df, period):\n",
    "    return np.mean(df[(df.Arrive < x) & (df.Arrive >= x - period)].time_of_expected_on_shedule)\n",
    "def mean_time_of_exp_schel(df,multiply = 1,period = day):\n",
    "    # period as time in unix\n",
    "    if period == day:\n",
    "        name = 'day'\n",
    "    elif period == week:\n",
    "        name = 'week'\n",
    "    else:\n",
    "        name = 'month'\n",
    "    df['mean_time_of_exp_schel_'+str(multiply)+'_'+name] = list(map(lambda x,y: mean_time_3(x,df[df.Modality == y], period*multiply), df.Arrive, df.Modality))\n",
    "    return df\n",
    "\n",
    "# оклонение отклонения от расписания по всем людям, которые пришли за некоторый промежуток времени\n",
    "\n",
    "def std_time_3(x,df, period):\n",
    "    return np.std(df[(df.Arrive < x) & (df.Arrive >= x - period)].time_of_expected_on_shedule)\n",
    "def std_time_of_exp_schel(df,multiply = 1,period = day):\n",
    "    # period as time in unix\n",
    "    if period == day:\n",
    "        name = 'day'\n",
    "    elif period == week:\n",
    "        name = 'week'\n",
    "    else:\n",
    "        name = 'month'\n",
    "    df['std_time_of_exp_schel_'+str(multiply)+'_'+name] = list(map(lambda x,y: std_time_3(x,df[df.Modality == y], period*multiply), df.Arrive, df.Modality))\n",
    "    return df"
   ]
  },
  {
   "cell_type": "code",
   "execution_count": null,
   "metadata": {
    "collapsed": true
   },
   "outputs": [],
   "source": [
    "# чувак с какой модальностью сейчас на исследовании\n",
    "\n",
    "def closest_modality(df):\n",
    "    return modality\n",
    "def now_with_doctor(df):\n",
    "    df['now_with_doctor'] = list(map(lambda x,y: closest_modality(df[(df.Modality == y) & (df.Begin_UNIX < x)]), df.Begin_UNIX, df.Modality ))\n",
    "    return df"
   ]
  },
  {
   "cell_type": "markdown",
   "metadata": {},
   "source": [
    "def has_cancelled_today(df):\n",
    "    df['has_cancelled_today'] = map(lambda x,y: \n",
    "                                    df_cancelled[(df_cancelled.Modality == y) \n",
    "                        & (df_cancelled.Scheduled < x)\n",
    "                        & pd.Series(map(lambda z: datetime.date(z), \n",
    "                                        df_cancelled.Scheduled)) == datetime.date(x)].shape[0],\n",
    "                                   df.Arrive, df.Modality)"
   ]
  },
  {
   "cell_type": "markdown",
   "metadata": {},
   "source": [
    "##### Идеи:\n",
    "- посмотреть распределение модальностей для тех ребят, которые сейчас внутри\n",
    "\n",
    "- разница во времени между пришедшим сейчас и пришедшим перед\n",
    "\n",
    "- предсказанное время ожидания для того, кто пришел перед текущим человеком\n",
    "\n",
    "- зашел ли тот человек, который пришел перед тобой, в кабинете\n",
    "\n",
    "- вышел ли тот человек, который пришел перед тобой, из кабинета"
   ]
  },
  {
   "cell_type": "code",
   "execution_count": null,
   "metadata": {
    "collapsed": true
   },
   "outputs": [],
   "source": [
    "df = time_of_expected(df)\n",
    "df = time_of_expected_on_shedule(df)\n",
    "df = time_of_procedure(df)\n",
    "\n",
    "for i in tqdm(range(0,150,10)):\n",
    "    df = len_of_queque(df,i*60)\n",
    "\n",
    "for i in tqdm(range(0,150,10)):\n",
    "    df = count_who_come_in(df,60*i)\n",
    "\n",
    "for i in tqdm(range(0,150,10)):\n",
    "    df = count_who_arrive_in(df,60*i)\n",
    "\n",
    "for i in tqdm(range(150,301,30)):\n",
    "    df = len_of_queque(df,i*60)\n",
    "\n",
    "for i in tqdm(range(150,301,30)):\n",
    "    df = count_who_come_in(df,60*i)\n",
    "\n",
    "for i in tqdm(range(150,301,30)):\n",
    "    df = count_who_arrive_in(df,60*i)\n",
    "    \n",
    "for i in tqdm(range(1,8)):    \n",
    "    df = mean_time_of_exp(df,i,day)\n",
    "    df = std_time_of_exp(df,i,day)\n",
    "    df = mean_time_of_proced(df,i,day)\n",
    "    df = std_time_of_proced(df,i,day)\n",
    "    df = mean_time_of_exp_schel(df,i,day)\n",
    "    df = std_time_of_exp_schel(df,i,day)\n",
    "\n",
    "for i in list(df.columns[22:]):\n",
    "    df[i] = df[i].fillna(0)\n",
    "\n",
    "\n",
    "for i in tqdm(['Modality','Exam','day_of_week','month']):\n",
    "    df,temp_uniq = dummie_train(df,i)"
   ]
  },
  {
   "cell_type": "markdown",
   "metadata": {},
   "source": [
    "df['has_cancelled_today'] = has_cancelled_today(df)"
   ]
  },
  {
   "cell_type": "code",
   "execution_count": 88,
   "metadata": {
    "collapsed": false
   },
   "outputs": [],
   "source": [
    "with open('../preproc_df.pkl', 'wb') as f:\n",
    "    pkl.dump(df, f)"
   ]
  },
  {
   "cell_type": "code",
   "execution_count": null,
   "metadata": {
    "collapsed": true
   },
   "outputs": [],
   "source": []
  }
 ],
 "metadata": {
  "kernelspec": {
   "display_name": "Python [default]",
   "language": "python",
   "name": "python2"
  },
  "language_info": {
   "codemirror_mode": {
    "name": "ipython",
    "version": 2
   },
   "file_extension": ".py",
   "mimetype": "text/x-python",
   "name": "python",
   "nbconvert_exporter": "python",
   "pygments_lexer": "ipython2",
   "version": "2.7.12"
  }
 },
 "nbformat": 4,
 "nbformat_minor": 1
}
